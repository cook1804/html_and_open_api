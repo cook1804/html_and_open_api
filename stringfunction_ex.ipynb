{
 "cells": [
  {
   "cell_type": "code",
   "execution_count": 1,
   "id": "d2cbe002",
   "metadata": {},
   "outputs": [
    {
     "data": {
      "text/plain": [
       "2"
      ]
     },
     "execution_count": 1,
     "metadata": {},
     "output_type": "execute_result"
    }
   ],
   "source": [
    "data = 'Dave David'\n",
    "data.count('v')"
   ]
  },
  {
   "cell_type": "code",
   "execution_count": 4,
   "id": "e43b86cc",
   "metadata": {},
   "outputs": [
    {
     "data": {
      "text/plain": [
       "0"
      ]
     },
     "execution_count": 4,
     "metadata": {},
     "output_type": "execute_result"
    }
   ],
   "source": [
    "data1 = 'string'\n",
    "data1.count('v')"
   ]
  },
  {
   "cell_type": "code",
   "execution_count": 5,
   "id": "2e2f089d",
   "metadata": {},
   "outputs": [
    {
     "data": {
      "text/plain": [
       "0"
      ]
     },
     "execution_count": 5,
     "metadata": {},
     "output_type": "execute_result"
    }
   ],
   "source": [
    "data2 = 'string'\n",
    "data2.count('vid')"
   ]
  },
  {
   "cell_type": "code",
   "execution_count": 7,
   "id": "7b134226",
   "metadata": {},
   "outputs": [
    {
     "data": {
      "text/plain": [
       "8"
      ]
     },
     "execution_count": 7,
     "metadata": {},
     "output_type": "execute_result"
    }
   ],
   "source": [
    "string = 'Dave ID is dave'\n",
    "string.index('i')"
   ]
  },
  {
   "cell_type": "code",
   "execution_count": 8,
   "id": "52be04fd",
   "metadata": {},
   "outputs": [
    {
     "data": {
      "text/plain": [
       "0"
      ]
     },
     "execution_count": 8,
     "metadata": {},
     "output_type": "execute_result"
    }
   ],
   "source": [
    "string.index('D')  #1개 이상이면 가장 먼저 나오는 위치를 알려줌"
   ]
  },
  {
   "cell_type": "code",
   "execution_count": 9,
   "id": "f509c98d",
   "metadata": {},
   "outputs": [
    {
     "ename": "ValueError",
     "evalue": "substring not found",
     "output_type": "error",
     "traceback": [
      "\u001b[1;31m---------------------------------------------------------------------------\u001b[0m",
      "\u001b[1;31mValueError\u001b[0m                                Traceback (most recent call last)",
      "\u001b[1;32m<ipython-input-9-6fa4791dc117>\u001b[0m in \u001b[0;36m<module>\u001b[1;34m\u001b[0m\n\u001b[1;32m----> 1\u001b[1;33m \u001b[0mstring\u001b[0m\u001b[1;33m.\u001b[0m\u001b[0mindex\u001b[0m\u001b[1;33m(\u001b[0m\u001b[1;34m'x'\u001b[0m\u001b[1;33m)\u001b[0m\u001b[1;33m\u001b[0m\u001b[1;33m\u001b[0m\u001b[0m\n\u001b[0m",
      "\u001b[1;31mValueError\u001b[0m: substring not found"
     ]
    }
   ],
   "source": [
    "string.index('x') # 해당 문자가 없으므로 에러가 발생함."
   ]
  },
  {
   "cell_type": "code",
   "execution_count": 10,
   "id": "47cd4beb",
   "metadata": {},
   "outputs": [
    {
     "data": {
      "text/plain": [
       "-1"
      ]
     },
     "execution_count": 10,
     "metadata": {},
     "output_type": "execute_result"
    }
   ],
   "source": [
    "string  =  'dave is david'\n",
    "string.find('x')    # 인덱스와 동일하지만, 차이점은 해당 문자가 없을 시 -1 을 리턴함."
   ]
  },
  {
   "cell_type": "code",
   "execution_count": 13,
   "id": "561e68ff",
   "metadata": {},
   "outputs": [
    {
     "name": "stdout",
     "output_type": "stream",
     "text": [
      "x는 스트링에 없습니다.\n"
     ]
    }
   ],
   "source": [
    "string = 'Dave ID is dave'\n",
    "string.find('D')\n",
    "\n",
    "if string.find('x') == -1:\n",
    "    print(\"x는 스트링에 없습니다.\")"
   ]
  },
  {
   "cell_type": "code",
   "execution_count": 14,
   "id": "22619aec",
   "metadata": {},
   "outputs": [
    {
     "data": {
      "text/plain": [
       "11"
      ]
     },
     "execution_count": 14,
     "metadata": {},
     "output_type": "execute_result"
    }
   ],
   "source": [
    "string.find('d')"
   ]
  },
  {
   "cell_type": "code",
   "execution_count": 16,
   "id": "2e144538",
   "metadata": {},
   "outputs": [
    {
     "data": {
      "text/plain": [
       "'1,2,3,4,5'"
      ]
     },
     "execution_count": 16,
     "metadata": {},
     "output_type": "execute_result"
    }
   ],
   "source": [
    "string =\"12345\"\n",
    "comma = ','\n",
    "comma.join(string)          # 껴넣을 문자.join(문자열)"
   ]
  },
  {
   "cell_type": "code",
   "execution_count": 17,
   "id": "770e80a1",
   "metadata": {},
   "outputs": [
    {
     "data": {
      "text/plain": [
       "'Dave'"
      ]
     },
     "execution_count": 17,
     "metadata": {},
     "output_type": "execute_result"
    }
   ],
   "source": [
    "data = \" Dave \"\n",
    "data.strip()    # 앞, 뒤 공백을 다 지움"
   ]
  },
  {
   "cell_type": "code",
   "execution_count": 18,
   "id": "de7376f7",
   "metadata": {},
   "outputs": [
    {
     "data": {
      "text/plain": [
       "'David'"
      ]
     },
     "execution_count": 18,
     "metadata": {},
     "output_type": "execute_result"
    }
   ],
   "source": [
    "string2 = \"       David  \"\n",
    "string2.strip()    # 앞 뒤 공백이 여러개 있어도 한번에 다 지움"
   ]
  },
  {
   "cell_type": "code",
   "execution_count": 19,
   "id": "8769b028",
   "metadata": {},
   "outputs": [
    {
     "data": {
      "text/plain": [
       "'David  '"
      ]
     },
     "execution_count": 19,
     "metadata": {},
     "output_type": "execute_result"
    }
   ],
   "source": [
    "string2.lstrip()   #문자열의 왼쪽 공백을 다 지움  left strip"
   ]
  },
  {
   "cell_type": "code",
   "execution_count": 20,
   "id": "4636a0b9",
   "metadata": {},
   "outputs": [
    {
     "data": {
      "text/plain": [
       "'       David'"
      ]
     },
     "execution_count": 20,
     "metadata": {},
     "output_type": "execute_result"
    }
   ],
   "source": [
    "string2.rstrip()   #문자열의 오른쪽 공백을 다 지움 right strip"
   ]
  },
  {
   "cell_type": "code",
   "execution_count": 33,
   "id": "5577c6f9",
   "metadata": {},
   "outputs": [
    {
     "data": {
      "text/plain": [
       "'Dave'"
      ]
     },
     "execution_count": 33,
     "metadata": {},
     "output_type": "execute_result"
    }
   ],
   "source": [
    "string = \"      9999999999999(Dave)8888888888888888       \"\n",
    "string.strip(\" 98()\")"
   ]
  },
  {
   "cell_type": "code",
   "execution_count": 34,
   "id": "9cddbcd8",
   "metadata": {},
   "outputs": [
    {
     "data": {
      "text/plain": [
       "'DAVE'"
      ]
     },
     "execution_count": 34,
     "metadata": {},
     "output_type": "execute_result"
    }
   ],
   "source": [
    "string = 'Dave'\n",
    "string.upper()"
   ]
  },
  {
   "cell_type": "code",
   "execution_count": 35,
   "id": "85e27ed4",
   "metadata": {},
   "outputs": [
    {
     "data": {
      "text/plain": [
       "'dave'"
      ]
     },
     "execution_count": 35,
     "metadata": {},
     "output_type": "execute_result"
    }
   ],
   "source": [
    "string.lower()"
   ]
  },
  {
   "cell_type": "code",
   "execution_count": 37,
   "id": "86770121",
   "metadata": {},
   "outputs": [
    {
     "data": {
      "text/plain": [
       "['Dave', 'goes', 'to', 'Korea']"
      ]
     },
     "execution_count": 37,
     "metadata": {},
     "output_type": "execute_result"
    }
   ],
   "source": [
    "string = \"Dave goes to Korea\"\n",
    "string.split()          #split()인자를 넣지 않으면 디폴트로 스페이스를 기준으로 분리"
   ]
  },
  {
   "cell_type": "code",
   "execution_count": 38,
   "id": "eb0f8e75",
   "metadata": {},
   "outputs": [
    {
     "data": {
      "text/plain": [
       "'Korea'"
      ]
     },
     "execution_count": 38,
     "metadata": {},
     "output_type": "execute_result"
    }
   ],
   "source": [
    "string = \"Dave goes to Korea\"\n",
    "string.split()[3]"
   ]
  },
  {
   "cell_type": "code",
   "execution_count": 39,
   "id": "8b8b5bce",
   "metadata": {},
   "outputs": [
    {
     "data": {
      "text/plain": [
       "['Dave', 'goes', 'to', 'Korea']"
      ]
     },
     "execution_count": 39,
     "metadata": {},
     "output_type": "execute_result"
    }
   ],
   "source": [
    "string.split(' ')"
   ]
  },
  {
   "cell_type": "code",
   "execution_count": 40,
   "id": "ef814110",
   "metadata": {},
   "outputs": [
    {
     "data": {
      "text/plain": [
       "['Dave', 'goes', 'to', 'Korea']"
      ]
     },
     "execution_count": 40,
     "metadata": {},
     "output_type": "execute_result"
    }
   ],
   "source": [
    "string = \"Dave/goes/to/Korea\"\n",
    "string.split('/')"
   ]
  },
  {
   "cell_type": "code",
   "execution_count": 42,
   "id": "2b0b6749",
   "metadata": {},
   "outputs": [
    {
     "data": {
      "text/plain": [
       "['10', '11', '22', '33', '44']"
      ]
     },
     "execution_count": 42,
     "metadata": {},
     "output_type": "execute_result"
    }
   ],
   "source": [
    "string  =  \"10,11,22,33,44\"\n",
    "string.split(',')"
   ]
  },
  {
   "cell_type": "code",
   "execution_count": 44,
   "id": "74ffc08d",
   "metadata": {},
   "outputs": [
    {
     "name": "stdout",
     "output_type": "stream",
     "text": [
      "[10, 11, 22, 33, 44]\n"
     ]
    }
   ],
   "source": [
    "string = \"10,11,22,33,44\"\n",
    "listdata = string.split(',')\n",
    "for index, listitem in enumerate(listdata):\n",
    "    listdata[index] = int(listitem)\n",
    "print(listdata)"
   ]
  },
  {
   "cell_type": "code",
   "execution_count": 45,
   "id": "f7c6e48d",
   "metadata": {},
   "outputs": [
    {
     "name": "stdout",
     "output_type": "stream",
     "text": [
      "[10, 11, 22, 33, 44]\n"
     ]
    }
   ],
   "source": [
    "string = \"10,11,22,33,44\"\n",
    "split_string = string.split(',')\n",
    "for index, split_item in enumerate(split_string):\n",
    "    split_string[index] = int(split_item)\n",
    "print(split_string)"
   ]
  },
  {
   "cell_type": "code",
   "execution_count": 46,
   "id": "a53b8ffb",
   "metadata": {},
   "outputs": [
    {
     "data": {
      "text/plain": [
       "'Dave goes to Korea'"
      ]
     },
     "execution_count": 46,
     "metadata": {},
     "output_type": "execute_result"
    }
   ],
   "source": [
    "string  = \"David goes to Korea\"\n",
    "string.replace(\"David\", \"Dave\")"
   ]
  },
  {
   "cell_type": "code",
   "execution_count": 47,
   "id": "a7770a7d",
   "metadata": {},
   "outputs": [
    {
     "data": {
      "text/plain": [
       "'(Dave)'"
      ]
     },
     "execution_count": 47,
     "metadata": {},
     "output_type": "execute_result"
    }
   ],
   "source": [
    "string2 = \"(Dave)\"\n",
    "string2.replace(\"()\",\"\")   # 연결된 문자열은 해당 문자열이 동일하게 매칭이 되어야 함"
   ]
  },
  {
   "cell_type": "code",
   "execution_count": 48,
   "id": "94f9d056",
   "metadata": {},
   "outputs": [
    {
     "data": {
      "text/plain": [
       "'Dave)'"
      ]
     },
     "execution_count": 48,
     "metadata": {},
     "output_type": "execute_result"
    }
   ],
   "source": [
    "string2.replace(\"(\",\"\")"
   ]
  },
  {
   "cell_type": "code",
   "execution_count": 51,
   "id": "2a6b4305",
   "metadata": {},
   "outputs": [
    {
     "data": {
      "text/plain": [
       "'(Dave'"
      ]
     },
     "execution_count": 51,
     "metadata": {},
     "output_type": "execute_result"
    }
   ],
   "source": [
    "string2.replace(\")\",\"\")"
   ]
  },
  {
   "cell_type": "code",
   "execution_count": 52,
   "id": "48645139",
   "metadata": {},
   "outputs": [
    {
     "data": {
      "text/plain": [
       "'Dave'"
      ]
     },
     "execution_count": 52,
     "metadata": {},
     "output_type": "execute_result"
    }
   ],
   "source": [
    "string2 = string2.replace(\"(\",\"\")\n",
    "string2.replace(\")\",\"\")"
   ]
  },
  {
   "cell_type": "code",
   "execution_count": 53,
   "id": "2d83a7b0",
   "metadata": {},
   "outputs": [
    {
     "data": {
      "text/plain": [
       "'Dave'"
      ]
     },
     "execution_count": 53,
     "metadata": {},
     "output_type": "execute_result"
    }
   ],
   "source": [
    "string2 = \"(Dave)\"\n",
    "string2.replace(\"(\",\"\").replace(\")\",\"\")"
   ]
  },
  {
   "cell_type": "code",
   "execution_count": 54,
   "id": "6c1f5fc9",
   "metadata": {},
   "outputs": [
    {
     "data": {
      "text/plain": [
       "'10 11 22 33 44'"
      ]
     },
     "execution_count": 54,
     "metadata": {},
     "output_type": "execute_result"
    }
   ],
   "source": [
    "string = \"10,11,22,33,44\"\n",
    "string.replace(\",\",\" \")      # ,(콤마)는 하나씩 끊어져 있으므로 단일 문자열은 바꿀 수 있다. "
   ]
  },
  {
   "cell_type": "code",
   "execution_count": null,
   "id": "9aa751ed",
   "metadata": {},
   "outputs": [],
   "source": []
  },
  {
   "cell_type": "code",
   "execution_count": null,
   "id": "8f889633",
   "metadata": {},
   "outputs": [],
   "source": []
  }
 ],
 "metadata": {
  "kernelspec": {
   "display_name": "Python 3",
   "language": "python",
   "name": "python3"
  },
  "language_info": {
   "codemirror_mode": {
    "name": "ipython",
    "version": 3
   },
   "file_extension": ".py",
   "mimetype": "text/x-python",
   "name": "python",
   "nbconvert_exporter": "python",
   "pygments_lexer": "ipython3",
   "version": "3.8.9"
  }
 },
 "nbformat": 4,
 "nbformat_minor": 5
}
