{
 "cells": [
  {
   "cell_type": "code",
   "execution_count": 4,
   "id": "3a1bf062",
   "metadata": {},
   "outputs": [
    {
     "name": "stdout",
     "output_type": "stream",
     "text": [
      "나만의 엣지있는 블로그 사이트 만들기 (취미로 익히는 IT)\n",
      "파이썬과 데이터과학 첫걸음 (IT 기본기 익히기)\n"
     ]
    }
   ],
   "source": [
    "import requests\n",
    "from bs4 import BeautifulSoup\n",
    "\n",
    "res = requests.get('https://davelee-fun.github.io/blog/crawl_test_css.html')\n",
    "soup = BeautifulSoup(res.content, 'html.parser')\n",
    "items = soup.select('h3')   #select함수는 항상 list 형식으로 나옴\n",
    "for item in items:\n",
    "    print(item.get_text())\n"
   ]
  },
  {
   "cell_type": "code",
   "execution_count": 9,
   "id": "220673c0",
   "metadata": {},
   "outputs": [
    {
     "name": "stdout",
     "output_type": "stream",
     "text": [
      "잔재미코딩 크롤링 테스트 페이지 (커리큘럼)\n"
     ]
    }
   ],
   "source": [
    "import requests\n",
    "from bs4 import BeautifulSoup\n",
    "\n",
    "res = requests.get('https://davelee-fun.github.io/blog/crawl_test_css.html')\n",
    "soup = BeautifulSoup(res.content, 'html.parser')\n",
    "items = soup.select('html body h1')\n",
    "for item in items:\n",
    "    print(item.get_text())"
   ]
  },
  {
   "cell_type": "code",
   "execution_count": 12,
   "id": "f891af80",
   "metadata": {},
   "outputs": [
    {
     "name": "stdout",
     "output_type": "stream",
     "text": [
      "(왕초보) - 클래스 소개\n",
      "(왕초보) - 블로그 개발 필요한 준비물 준비하기\n",
      "(왕초보) - Github pages 설정해서 블로그 첫 페이지 만들어보기\n",
      "(왕초보) - 초간단 페이지 만들어보기\n",
      "(왕초보) - 이쁘게 테마 적용해보기\n",
      "(왕초보) - 마크다운 기초 이해하고, 실제 나만의 블로그 페이지 만들기\n",
      "(왕초보) - 다양한 마크다운 기법 익혀보며, 나만의 블로그 페이지 꾸며보기\n",
      "(초급) - 강사가 실제 사용하는 자동 프로그램 소개 [2]\n",
      "(초급) - 필요한 프로그램 설치 시연 [5]\n",
      "(초급) - 데이터를 엑셀 파일로 만들기 [9]\n",
      "(초급) -     엑셀 파일 이쁘게! 이쁘게! [8]\n",
      "(초급) -     나대신 주기적으로 파이썬 프로그램 실행하기 [7]\n",
      "(초급) - 파이썬으로 슬랙(slack) 메신저에 글쓰기 [40]\n",
      "(초급) - 웹사이트 변경사항 주기적으로 체크해서, 메신저로 알람주기 [12]\n",
      "(초급) - 네이버 API 사용해서, 블로그에 글쓰기 [42]\n",
      "(중급) - 자동으로 쿠팡파트너스 API 로 가져온 상품 정보, 네이버 블로그/트위터에 홍보하기 [412]\n"
     ]
    }
   ],
   "source": [
    "import requests\n",
    "from bs4 import BeautifulSoup\n",
    "\n",
    "res = requests.get('https://davelee-fun.github.io/blog/crawl_test_css.html')\n",
    "soup = BeautifulSoup(res.content, 'html.parser')\n",
    "items = soup.select('li')   \n",
    "for item in items:\n",
    "    print(item.get_text())"
   ]
  },
  {
   "cell_type": "code",
   "execution_count": 13,
   "id": "4d4be367",
   "metadata": {},
   "outputs": [
    {
     "name": "stdout",
     "output_type": "stream",
     "text": [
      "(왕초보) - 클래스 소개\n",
      "(왕초보) - 블로그 개발 필요한 준비물 준비하기\n",
      "(왕초보) - Github pages 설정해서 블로그 첫 페이지 만들어보기\n",
      "(왕초보) - 초간단 페이지 만들어보기\n",
      "(왕초보) - 이쁘게 테마 적용해보기\n",
      "(왕초보) - 마크다운 기초 이해하고, 실제 나만의 블로그 페이지 만들기\n",
      "(왕초보) - 다양한 마크다운 기법 익혀보며, 나만의 블로그 페이지 꾸며보기\n",
      "(초급) - 강사가 실제 사용하는 자동 프로그램 소개 [2]\n",
      "(초급) - 필요한 프로그램 설치 시연 [5]\n",
      "(초급) - 데이터를 엑셀 파일로 만들기 [9]\n",
      "(초급) -     엑셀 파일 이쁘게! 이쁘게! [8]\n",
      "(초급) -     나대신 주기적으로 파이썬 프로그램 실행하기 [7]\n",
      "(초급) - 파이썬으로 슬랙(slack) 메신저에 글쓰기 [40]\n",
      "(초급) - 웹사이트 변경사항 주기적으로 체크해서, 메신저로 알람주기 [12]\n",
      "(초급) - 네이버 API 사용해서, 블로그에 글쓰기 [42]\n",
      "(중급) - 자동으로 쿠팡파트너스 API 로 가져온 상품 정보, 네이버 블로그/트위터에 홍보하기 [412]\n"
     ]
    }
   ],
   "source": [
    "import requests\n",
    "from bs4 import BeautifulSoup\n",
    "\n",
    "res = requests.get('https://davelee-fun.github.io/blog/crawl_test_css.html')\n",
    "soup = BeautifulSoup(res.content, 'html.parser')\n",
    "items = soup.select('ul li')   \n",
    "for item in items:\n",
    "    print(item.get_text())"
   ]
  },
  {
   "cell_type": "code",
   "execution_count": 14,
   "id": "c516551e",
   "metadata": {},
   "outputs": [
    {
     "name": "stdout",
     "output_type": "stream",
     "text": [
      "(왕초보) - 클래스 소개\n",
      "(왕초보) - 블로그 개발 필요한 준비물 준비하기\n",
      "(왕초보) - Github pages 설정해서 블로그 첫 페이지 만들어보기\n",
      "(왕초보) - 초간단 페이지 만들어보기\n",
      "(왕초보) - 이쁘게 테마 적용해보기\n",
      "(왕초보) - 마크다운 기초 이해하고, 실제 나만의 블로그 페이지 만들기\n",
      "(왕초보) - 다양한 마크다운 기법 익혀보며, 나만의 블로그 페이지 꾸며보기\n",
      "(초급) - 강사가 실제 사용하는 자동 프로그램 소개 [2]\n",
      "(초급) - 필요한 프로그램 설치 시연 [5]\n",
      "(초급) - 데이터를 엑셀 파일로 만들기 [9]\n",
      "(초급) -     엑셀 파일 이쁘게! 이쁘게! [8]\n",
      "(초급) -     나대신 주기적으로 파이썬 프로그램 실행하기 [7]\n",
      "(초급) - 파이썬으로 슬랙(slack) 메신저에 글쓰기 [40]\n",
      "(초급) - 웹사이트 변경사항 주기적으로 체크해서, 메신저로 알람주기 [12]\n",
      "(초급) - 네이버 API 사용해서, 블로그에 글쓰기 [42]\n",
      "(중급) - 자동으로 쿠팡파트너스 API 로 가져온 상품 정보, 네이버 블로그/트위터에 홍보하기 [412]\n"
     ]
    }
   ],
   "source": [
    "import requests\n",
    "from bs4 import BeautifulSoup\n",
    "\n",
    "res = requests.get('https://davelee-fun.github.io/blog/crawl_test_css.html')\n",
    "soup = BeautifulSoup(res.content, 'html.parser')\n",
    "items = soup.select('ul>li')   \n",
    "for item in items:\n",
    "    print(item.get_text())"
   ]
  },
  {
   "cell_type": "code",
   "execution_count": 15,
   "id": "e31ab1a4",
   "metadata": {},
   "outputs": [
    {
     "name": "stdout",
     "output_type": "stream",
     "text": [
      "(왕초보) - 클래스 소개\n",
      "(왕초보) - 블로그 개발 필요한 준비물 준비하기\n",
      "(왕초보) - Github pages 설정해서 블로그 첫 페이지 만들어보기\n",
      "(왕초보) - 초간단 페이지 만들어보기\n",
      "(왕초보) - 이쁘게 테마 적용해보기\n",
      "(왕초보) - 마크다운 기초 이해하고, 실제 나만의 블로그 페이지 만들기\n",
      "(왕초보) - 다양한 마크다운 기법 익혀보며, 나만의 블로그 페이지 꾸며보기\n",
      "(초급) - 강사가 실제 사용하는 자동 프로그램 소개 [2]\n",
      "(초급) - 필요한 프로그램 설치 시연 [5]\n",
      "(초급) - 데이터를 엑셀 파일로 만들기 [9]\n",
      "(초급) -     엑셀 파일 이쁘게! 이쁘게! [8]\n",
      "(초급) -     나대신 주기적으로 파이썬 프로그램 실행하기 [7]\n",
      "(초급) - 파이썬으로 슬랙(slack) 메신저에 글쓰기 [40]\n",
      "(초급) - 웹사이트 변경사항 주기적으로 체크해서, 메신저로 알람주기 [12]\n",
      "(초급) - 네이버 API 사용해서, 블로그에 글쓰기 [42]\n",
      "(중급) - 자동으로 쿠팡파트너스 API 로 가져온 상품 정보, 네이버 블로그/트위터에 홍보하기 [412]\n"
     ]
    }
   ],
   "source": [
    "import requests\n",
    "from bs4 import BeautifulSoup\n",
    "\n",
    "res = requests.get('https://davelee-fun.github.io/blog/crawl_test_css.html')\n",
    "soup = BeautifulSoup(res.content, 'html.parser')\n",
    "items = soup.select('body li')   \n",
    "for item in items:\n",
    "    print(item.get_text())"
   ]
  },
  {
   "cell_type": "code",
   "execution_count": 16,
   "id": "b304d1c2",
   "metadata": {},
   "outputs": [],
   "source": [
    "import requests\n",
    "from bs4 import BeautifulSoup\n",
    "\n",
    "res = requests.get('https://davelee-fun.github.io/blog/crawl_test_css.html')\n",
    "soup = BeautifulSoup(res.content, 'html.parser')\n",
    "items = soup.select('body>li')   # >는 정확한 경로를 정해줘야 되고(정확한 경로 설정이 아니므로 아무것도 출력하지 않는다.) 한칸 띄우는건 정확한 경로 설정이 아니더라도 자동으로 찾아준다.\n",
    "for item in items:\n",
    "    print(item.get_text())"
   ]
  },
  {
   "cell_type": "code",
   "execution_count": 17,
   "id": "e8015be3",
   "metadata": {},
   "outputs": [
    {
     "name": "stdout",
     "output_type": "stream",
     "text": [
      "(왕초보) - 클래스 소개\n",
      "(왕초보) - 블로그 개발 필요한 준비물 준비하기\n",
      "(왕초보) - Github pages 설정해서 블로그 첫 페이지 만들어보기\n",
      "(왕초보) - 초간단 페이지 만들어보기\n",
      "(왕초보) - 이쁘게 테마 적용해보기\n",
      "(왕초보) - 마크다운 기초 이해하고, 실제 나만의 블로그 페이지 만들기\n",
      "(왕초보) - 다양한 마크다운 기법 익혀보며, 나만의 블로그 페이지 꾸며보기\n",
      "(초급) - 강사가 실제 사용하는 자동 프로그램 소개 [2]\n",
      "(초급) - 필요한 프로그램 설치 시연 [5]\n",
      "(초급) - 데이터를 엑셀 파일로 만들기 [9]\n",
      "(초급) -     엑셀 파일 이쁘게! 이쁘게! [8]\n",
      "(초급) -     나대신 주기적으로 파이썬 프로그램 실행하기 [7]\n",
      "(초급) - 파이썬으로 슬랙(slack) 메신저에 글쓰기 [40]\n",
      "(초급) - 웹사이트 변경사항 주기적으로 체크해서, 메신저로 알람주기 [12]\n",
      "(초급) - 네이버 API 사용해서, 블로그에 글쓰기 [42]\n",
      "(중급) - 자동으로 쿠팡파트너스 API 로 가져온 상품 정보, 네이버 블로그/트위터에 홍보하기 [412]\n"
     ]
    }
   ],
   "source": [
    "import requests\n",
    "from bs4 import BeautifulSoup\n",
    "\n",
    "res = requests.get('https://davelee-fun.github.io/blog/crawl_test_css.html')\n",
    "soup = BeautifulSoup(res.content, 'html.parser')\n",
    "items = soup.select('.course')   # class=course 인 것들을 출력\n",
    "for item in items:\n",
    "    print(item.get_text())"
   ]
  },
  {
   "cell_type": "code",
   "execution_count": 18,
   "id": "6bf75135",
   "metadata": {},
   "outputs": [
    {
     "name": "stdout",
     "output_type": "stream",
     "text": [
      "(왕초보) - 클래스 소개\n",
      "(왕초보) - 블로그 개발 필요한 준비물 준비하기\n",
      "(왕초보) - Github pages 설정해서 블로그 첫 페이지 만들어보기\n",
      "(왕초보) - 초간단 페이지 만들어보기\n",
      "(왕초보) - 이쁘게 테마 적용해보기\n",
      "(왕초보) - 마크다운 기초 이해하고, 실제 나만의 블로그 페이지 만들기\n",
      "(왕초보) - 다양한 마크다운 기법 익혀보며, 나만의 블로그 페이지 꾸며보기\n"
     ]
    }
   ],
   "source": [
    "import requests\n",
    "from bs4 import BeautifulSoup\n",
    "\n",
    "res = requests.get('https://davelee-fun.github.io/blog/crawl_test_css.html')\n",
    "soup = BeautifulSoup(res.content, 'html.parser')\n",
    "items = soup.select('#start')   \n",
    "for item in items:\n",
    "    print(item.get_text())"
   ]
  },
  {
   "cell_type": "code",
   "execution_count": 21,
   "id": "02c8fe76",
   "metadata": {},
   "outputs": [
    {
     "name": "stdout",
     "output_type": "stream",
     "text": [
      "(중급) - 자동으로 쿠팡파트너스 API 로 가져온 상품 정보, 네이버 블로그/트위터에 홍보하기 [412]\n"
     ]
    }
   ],
   "source": [
    "import requests\n",
    "from bs4 import BeautifulSoup\n",
    "\n",
    "res = requests.get('https://davelee-fun.github.io/blog/crawl_test_css.html')\n",
    "soup = BeautifulSoup(res.content, 'html.parser')\n",
    "items = soup.select('li.course.paid')   \n",
    "for item in items:\n",
    "    print(item.get_text())"
   ]
  },
  {
   "cell_type": "code",
   "execution_count": 26,
   "id": "c5fa1b2f",
   "metadata": {},
   "outputs": [
    {
     "name": "stdout",
     "output_type": "stream",
     "text": [
      "(왕초보) - 클래스 소개\n",
      "(왕초보) - 블로그 개발 필요한 준비물 준비하기\n",
      "(왕초보) - Github pages 설정해서 블로그 첫 페이지 만들어보기\n",
      "(왕초보) - 초간단 페이지 만들어보기\n",
      "(왕초보) - 이쁘게 테마 적용해보기\n",
      "(왕초보) - 마크다운 기초 이해하고, 실제 나만의 블로그 페이지 만들기\n",
      "(왕초보) - 다양한 마크다운 기법 익혀보며, 나만의 블로그 페이지 꾸며보기\n"
     ]
    }
   ],
   "source": [
    "import requests\n",
    "from bs4 import BeautifulSoup\n",
    "\n",
    "res = requests.get('https://davelee-fun.github.io/blog/crawl_test_css.html')\n",
    "soup = BeautifulSoup(res.content, 'html.parser')\n",
    "items = soup.select('ul#hobby_course_list li.course')   \n",
    "for item in items:\n",
    "    print(item.get_text())"
   ]
  },
  {
   "cell_type": "code",
   "execution_count": 24,
   "id": "c6932c55",
   "metadata": {},
   "outputs": [
    {
     "name": "stdout",
     "output_type": "stream",
     "text": [
      "(중급) - 자동으로 쿠팡파트너스 API 로 가져온 상품 정보, 네이버 블로그/트위터에 홍보하기 [412]\n"
     ]
    }
   ],
   "source": [
    "import requests\n",
    "from bs4 import BeautifulSoup\n",
    "\n",
    "res = requests.get('https://davelee-fun.github.io/blog/crawl_test_css.html')\n",
    "soup = BeautifulSoup(res.content, 'html.parser')\n",
    "items = soup.select('#advance > a')   \n",
    "for item in items:\n",
    "    print(item.get_text())"
   ]
  },
  {
   "cell_type": "code",
   "execution_count": 30,
   "id": "19f507e8",
   "metadata": {},
   "outputs": [
    {
     "name": "stdout",
     "output_type": "stream",
     "text": [
      "(왕초보) - 클래스 소개\n"
     ]
    }
   ],
   "source": [
    "import requests\n",
    "from bs4 import BeautifulSoup\n",
    "\n",
    "res = requests.get('https://davelee-fun.github.io/blog/crawl_test_css.html')\n",
    "soup = BeautifulSoup(res.content, 'html.parser')\n",
    "items = soup.select_one('ul#hobby_course_list li.course')   \n",
    "print(item.get_text())"
   ]
  },
  {
   "cell_type": "code",
   "execution_count": 33,
   "id": "ade84465",
   "metadata": {},
   "outputs": [
    {
     "name": "stdout",
     "output_type": "stream",
     "text": [
      "\n",
      "\n",
      "\n",
      "1위\n",
      "어버이날 용돈박스\n",
      "\n",
      "상승1\n",
      "\n",
      "\n",
      "2위\n",
      "면도기\n",
      "\n",
      "하락1\n",
      "\n",
      "\n",
      "3위\n",
      "카네이션\n",
      "\n",
      "상승1\n",
      "\n",
      "\n",
      "4위\n",
      "어버이날 선물\n",
      "\n",
      "상승4\n",
      "\n",
      "\n",
      "5위\n",
      "크록스 키즈\n",
      "\n",
      "유지\n",
      "\n",
      "\n",
      "\n",
      "6위\n",
      "닌텐도 스위치\n",
      "\n",
      "하락3\n",
      "\n",
      "\n",
      "7위\n",
      "마스크\n",
      "\n",
      "상승2\n",
      "\n",
      "\n",
      "8위\n",
      "크록스\n",
      "\n",
      "하락2\n",
      "\n",
      "\n",
      "9위\n",
      "에어팟 프로\n",
      "\n",
      "상승4\n",
      "\n",
      "\n",
      "10위\n",
      "어버이날 카네이션\n",
      "\n",
      "상승12\n",
      "\n",
      "\n",
      "\n"
     ]
    }
   ],
   "source": [
    "import requests\n",
    "from bs4 import BeautifulSoup\n",
    "\n",
    "res = requests.get('https://search.shopping.naver.com/best100v2/main.nhn')\n",
    "soup = BeautifulSoup(res.content, 'html.parser')\n",
    "items = soup.select('#aside > div')   \n",
    "for item in items:\n",
    "    print(item.get_text())"
   ]
  },
  {
   "cell_type": "code",
   "execution_count": 36,
   "id": "a977d5fd",
   "metadata": {},
   "outputs": [
    {
     "name": "stdout",
     "output_type": "stream",
     "text": [
      "타미힐피거 반팔 티셔츠 남자 여자 면티 T3...\n",
      "캘빈클라인언더웨어 남성 모던코튼 6팩 드로...\n",
      "나이키 남성용 NSW 클럽 조거팬츠 BV2679\n",
      "타미힐피거 남녀공용 카라티 반팔티 피케 폴...\n",
      "스튜디오톰보이 테일러드 린넨자켓 9100212...\n",
      "지오다노 여 프렌치 테리 조거핏 팬츠 4115...\n",
      "나이키 SB 로고 드라이핏 반팔티 AR4209-01...\n",
      "아디다스 코어18 레인 자켓 바람막이 윈드브...\n",
      "써스데이아일랜드 프릴 반팔 소매 원피스 T...\n",
      "지오다노 여 TR 블레이저 솔리드 371501\n",
      "메종키츠네 여성 폭스 헤드 반팔 WH AW0010...\n",
      "나이키 기능성 드라이핏 반팔티 레전드 718...\n",
      "나이키 W 스우시 하이 라이즈 우븐 팬츠 CZ...\n",
      "나이키 클럽 트레이닝 조거팬츠 BV2671 063\n",
      "아디다스 오버핏 데일리 바람막이 우븐소재...\n",
      "지오다노 여 나일론 조거팬츠 411522\n",
      "메종키츠네 폭스헤드 패치 반팔티 AM00103K...\n",
      "아디다스 바람막이 오운더런 자켓 M OWN TH...\n",
      "캘빈클라인진 21S S 여성 슬림핏 기본로고 ...\n",
      "써스데이아일랜드 빈티지 페이즐리 원피스 ...\n",
      "아노락 바람막이 후드집업 반바지 트레이닝...\n",
      "지오다노 지오다노 여 레인코트 371513\n",
      "아디다스 M 삼선 윈드브레이커 GQ0600 GQ06...\n",
      "트리플에이 무지티 반팔티 무지 반팔티셔츠...\n",
      "캘빈클라인 남성 모노그램 엠브로 반팔티셔...\n",
      "SOUP 기본 린넨 자켓 SW5JK80\n",
      "나이키 W 리펠 에센셜 GX 미드 라이즈 조거...\n",
      "이경희 란제리 레이스 슬립 가운세트\n",
      "나이키 스우시 반팔티 827021-100\n",
      "리스트 아웃포켓 원버튼 여름 자켓 TWWJKK6...\n",
      "아디다스 FW19 T19 트랙 트레이닝 팬츠 DW6...\n",
      "나이키 NSW 클럽 크루 프렌치테리 맨투맨 남...\n",
      "리스트 기본 자켓 자켓 TWWJKK62010\n",
      "아디다스 3D 트레포일 트랙팬츠 GN3534\n",
      "루앤 가슴압박 스포츠브라\n",
      "라코스테 멘즈 크루넥 피마 저지 티셔츠 4색...\n",
      "폴로랄프로렌 걸스 케이블 니트 가디건 헌터\n",
      "써스데이아일랜드 볼륨소매 롱 원피스 T214...\n",
      "나이키 드라이 핏 파크 트랙수트 스우시 트...\n",
      "캘빈클라인진 캘 빈클라인진 여성 여성 스트...\n",
      "아디다스 남성 아이스 쿨 썸머 패키지 드로...\n",
      "나이키 남성 에센셜 후디 재킷 진주 CU5359...\n",
      "메종키츠네 그레이 폭스 패치 반팔 티셔츠 ...\n",
      "나이키 시티 에디션 우븐 트레이닝 긴바지 ...\n",
      "나이키 NSW 클럽 플리스 후드 집업 FZBB BV...\n",
      "지오다노 아노락 자켓 05 05371506\n",
      "나이키 스포츠브라 CN3719-010\n",
      "나이키 스우시 스포츠브라 BV3637-010\n",
      "달콤한레드 스윗드림 신혼부부 파자마 수면...\n",
      "지오다노 남 테이퍼드 슬랙스 110511\n",
      "나이키 더블 스우시 아노락 우븐 윈드러너 ...\n",
      "뉴발란스 W롱아노락 라이트핑크 85 - 남여공...\n",
      "지오다노 여성 린넨 블레이저 371514\n",
      "지오다노 포플린 셔츠 340501\n",
      "블루선 곰돌이 캐릭터 순면 커플 잠옷 파자...\n",
      "쉬즈미스 와이드 핏 트임 팬츠 SWWSLK21010\n",
      "랩 자가드 패턴 카라 니트 AM2KH460\n",
      "나이키 프렌치테리 후드 집업 BV2648-010 B...\n",
      "나이키 SB 로고 반팔티 821946\n",
      "라코스테 벨티드 피케 원피스 EF5471\n",
      "리스트 여름 오픈 더블버튼 린넨 투피스 자...\n",
      "폴로랄프로렌 반팔 카라티셔츠 커스텀핏 커...\n",
      "스톤아일랜드 나슬란 나일론 오버셔츠 투포...\n",
      "나이키 스포츠웨어 윈드러너 후드 재킷 DA0...\n",
      "플라스틱아일랜드 더블 기본 자켓 PL2EJ461\n",
      "루앤 심리스 브라 노와이어 무봉제 수면 브...\n",
      "케네스레이디 투버튼 포인트 린넨 마 자켓 ...\n",
      "나이키 스포츠웨어 HBR 빅스우시 재킷 AR31...\n",
      "써스데이아일랜드 20 S/S 반다나 패턴 롱 원...\n",
      "타미힐피거 반팔카라티 TOMMY MENS POLLO B...\n",
      "나이키 액티브 윈드러너 바람막이 자켓 AJ2...\n",
      "지오다노 헤비코튼 크루넥 반팔 티셔츠 021...\n",
      "써스데이아일랜드 레이스 MIX 자켓형 블라우...\n",
      "나이키 우먼스 에센셜 7/8 팬츠 BV2899-011\n",
      "칼하트 K87 남성 포켓 티셔츠 17종 택1\n",
      "써스데이아일랜드 정상 벌룬 소매 자수 원피...\n",
      "아디다스 3S 우븐 7 8 팬츠 3S WVN 78 PANT...\n",
      "폴로랄프로렌 여성사이즈 옥스포드 코튼 긴...\n",
      "신상특가 모그핑크 클라우디 심리스 사각팬...\n",
      "스톤아일랜드 와펜 패치 반팔 티셔츠 V0020...\n",
      "지오다노 남 MW 테이퍼드 링클프리  110901\n",
      "라코스테 반팔카라티 클래식 셔츠 L1212-00...\n",
      "이경희 수면 파자마 홈웨어 라운지\n",
      "라코스테 2 여성 A라인 플레어 원피스 EF54...\n",
      "리스트 플라워 러플 타이넥 블라우스 BLK50...\n",
      "지오다노 남여공용 봄 심플 무지 오버핏 솔...\n",
      "나이키 NSW 조거 프렌치테리 클럽 팬츠 BV2...\n",
      "아디다스 여성용 티 드레스 GN2777\n",
      "아디다스 여성용 오운 더 런 후드자켓 바람...\n",
      "스톤아일랜드 로고 와펜 후드집업 73166074...\n",
      "캘빈클라인 속옷 남자 팬티 남성 모달 드로...\n",
      "내셔널지오그래픽 더마인드 남성 아노락 바...\n",
      "지오다노 반팔 폴로 피케 010501\n",
      "폴로랄프로렌 여성 피마코튼 케이블 라운드...\n",
      "아디다스 파르마16 쇼트 속팬츠 반바지 AJ5...\n",
      "쉬즈미스 테일러드 원버튼 싱글 자켓 CR SW...\n",
      "라코스테 파리 남성 긴팔 PK 카라 티셔츠\n",
      "메종키츠네 폭스헤드 티셔츠 AM00103KJ0008\n",
      "지오다노 예약선오픈 피케 반팔티 21SS신상...\n",
      "지오다노 조거핏 라운지 팬츠 05 05551501\n"
     ]
    }
   ],
   "source": [
    "import requests\n",
    "from bs4 import BeautifulSoup\n",
    "\n",
    "res = requests.get('https://search.shopping.naver.com/best100v2/detail.nhn?catId=50000000')\n",
    "soup = BeautifulSoup(res.content, 'html.parser')\n",
    "items = soup.select('#productListArea > ul > li > p > a')   \n",
    "for item in items:\n",
    "    print(item.get_text())"
   ]
  },
  {
   "cell_type": "code",
   "execution_count": 37,
   "id": "b7614b99",
   "metadata": {},
   "outputs": [
    {
     "name": "stdout",
     "output_type": "stream",
     "text": [
      "설화수 자음 2종 세트\n",
      "헤라 블랙 쿠션 15g(SPF34)\n",
      "설화수 탄력 에센셜 3종 세트\n",
      "설화수 순행 클렌징폼 200ml\n",
      "미쟝센 헬로 버블 컬러 90g\n",
      "미쟝센 쉽고빠른 거품 염색약 80g\n",
      "닥터지 그린 마일드 업 선 플러스 50ml(SPF...\n",
      "헤라 선 메이트 프로텍터 50ml(SPF50+)\n",
      "쿤달 울트라 마이크로 휩 일라이트 클렌징 ...\n",
      "AHC 유스래스팅 리얼 아이크림 포페이스 30...\n",
      "설화수 탄력 크림 75ml\n",
      "쿤달 시카 앤 칼라민 퍼펙트 리페어 선크림...\n",
      "아베다 우든 패들 브러쉬\n",
      "헤라 선 메이트 레포츠 프로 워터프루프 70...\n",
      "강블리 제주 유채꿀 영양 마스크 25ml\n",
      "일리윤 세라마이드 아토 로션 528ml\n",
      "설화수 상백 크림 50ml(SPF50+)\n",
      "강블리 제주 유채꿀 바디 로션 500ml\n",
      "쿤달 카페인 탈모샴푸 500ml\n",
      "닥터지 레드 블레미쉬 클리어 수딩 크림 70...\n",
      "피지오겔 데일리 모이스쳐 테라피 페이셜 크...\n",
      "쿤달 에어리 퍼퓸 데오드란트 베이비 파우더...\n",
      "존바바토스 아티산 맨 오드뚜왈렛\n",
      "강블리 제주 동백 에센셜 선 크림 50ml(SPF...\n",
      "안나플러스 4GF 남자 스킨 로션 올인원 120...\n",
      "헤라 블랙 파운데이션 35ml(SPF15)\n",
      "랑방 에끌라 드 아르페쥬 우먼 오드퍼퓸\n",
      "쿤달 허니 앤 마카다미아 퓨어 바디워시 베...\n",
      "센텔리안24 마데카크림 파워 부스팅 포뮬러...\n",
      "쿤달 허니 앤 마카다미아 네이처 샴푸 베이...\n",
      "TS 골드플러스 티에스 샴푸 500g\n",
      "미쟝센 샤이닝 에센스 헤어컬러 100g\n",
      "안나플러스 천연 약산성 샴푸 500ml\n",
      "닥터지 블랙 스네일 크림 50ml\n",
      "바이오더마 센시비오 H2O 500ml\n",
      "맥 립스틱 3g\n",
      "설화수 맨 본윤 2종 세트\n",
      "아모스 녹차실감 산뜻한 타입 지성 모발용 ...\n",
      "쿤달 퓨어 앤 세이프 여성청결제 베르가못 ...\n",
      "아이오페 UV 쉴드 선 프로텍터 XP 60ml(SPF...\n",
      "피지오겔 데일리 모이스쳐 테라피 페이셜 로...\n",
      "설화수 자음 퍼스트케어 리추얼 3종 세트\n",
      "헤드앤숄더 가려운 두피케어 샴푸 850ml\n",
      "일리윤 세라마이드 아토 6.0 탑투토 워시 5...\n",
      "투쿨포스쿨 아트클래스 프로타주 펜슬 1.5g\n",
      "조말론 우드 세이지 앤 씨 솔트 코롱\n",
      "샤넬 코코 마드모아젤 우먼 오드퍼퓸\n",
      "헤라 옴므 블랙 퍼펙트 2종 세트\n",
      "쿤달 슈가 바디스크럽 550g\n",
      "아모스 컬링 에센스 2X 150ml\n",
      "실크테라피 오리지널 에센스 150ml\n",
      "디올 어딕트 립 글로우 3.5g(SPF10)\n",
      "헤드앤숄더 쿨 멘솔 샴푸 850ml\n",
      "불가리 옴니아 아메시스트 우먼 오드뚜왈렛\n",
      "강블리 제주 유채꿀 에센셜 토너 150ml\n",
      "설화수 윤조 에센스 90ml\n",
      "키엘 울트라 페이셜 수분 크림 125ml\n",
      "헤라 선 메이트 스틱 20g(SPF50+)\n",
      "아르마리오 맨 레이어드 퍼퓸 남자향수\n",
      "닥터지 약산성 클렌징 젤 폼 200ml\n",
      "에르게니아 엘러건트 부케 우먼 오드퍼퓸\n",
      "클리오 프로 아이 팔레트 6g\n",
      "라운드랩 1025 독도 토너 500ml\n",
      "강블리 제주 녹차 샴푸 500ml\n",
      "마녀공장 퓨어 클렌징 오일 200ml\n",
      "려 우아채 멋내기 새치 크림 120g\n",
      "닥터지 브라이트닝 업 선 50ml(SPF50+)\n",
      "쿤달 퓨어 바디 로션 화이트 머스크 500ml\n",
      "인셀덤 기초 3종 세트\n",
      "안나플러스 천연 약산성 4GF 딥 폼 클렌징 ...\n",
      "세타필 모이스춰라이징 크림 550g\n",
      "헤라 옴므 에센스 인 2종 세트\n",
      "불가리 블루 뿌르 옴므 오드뚜왈렛\n",
      "도브 화이트 뷰티 바 100g\n",
      "달바 워터풀 에센스 선크림 50ml(SPF50+)\n",
      "캘빈클라인 CK ONE 모이스처라이저 250ml\n",
      "에르게니아 스위티 구르망 우먼 오드퍼퓸\n",
      "셀퓨전씨 레이저 썬 스크린 100 50ml(SPF50...\n",
      "려 자양윤모 지성용 샴푸 400ml\n",
      "헤라 UV 미스트 쿠션 커버 15g(SPF50+)\n",
      "쿤달 안티 헤어 로스 앤 스칼프 케어 탈모토...\n",
      "설화수 순행 클렌징 오일 200ml\n",
      "도브 뷰티 너리싱 바디워시 1L\n",
      "어니우니 젤 네일스티커 붙이는 네일패치\n",
      "에르게니아 업세스 머스크 맨 오드퍼퓸\n",
      "일리윤 세라마이드 아토 로션 350ml\n",
      "강블리 알로에 베라 클렌징 폼 180ml\n",
      "맥 파우더 키스 립스틱 3g\n",
      "메디큐브 제로 모공 패드 2.0 70매\n",
      "끌레드벨 로지 글로우 물톡 크림 UV 30ml\n",
      "아쿠아디파르마 미르토 디 파나레아 오드뚜...\n",
      "입생로랑 엉크르 드 뽀 쿠션 14g\n",
      "아이오페 맨 바이오 2종 스페셜 세트\n",
      "헤라 센슈얼 파우더 매트 5g\n",
      "에르게니아 시트러스 자르딘 맨 오드퍼퓸\n",
      "뉴트로지나 딥클린 포밍 클렌저 175g(신형)\n",
      "샤넬 샹스 오 땅드르 우먼 오드뚜왈렛\n",
      "센텔리안24 마데카 크림 액티브 스킨 포뮬러...\n",
      "조말론 블랙베리 앤 베이 오드코롱\n",
      "AHC 내추럴 퍼펙션 더블 쉴드 선스틱 22g\n"
     ]
    }
   ],
   "source": [
    "import requests\n",
    "from bs4 import BeautifulSoup\n",
    "\n",
    "res = requests.get('https://search.shopping.naver.com/best100v2/detail.nhn?catId=50000002')\n",
    "soup = BeautifulSoup(res.content, 'html.parser')\n",
    "items = soup.select('#productListArea > ul > li > p > a')   \n",
    "for item in items:\n",
    "    print(item.get_text())"
   ]
  },
  {
   "cell_type": "code",
   "execution_count": 45,
   "id": "70f5070d",
   "metadata": {},
   "outputs": [
    {
     "name": "stdout",
     "output_type": "stream",
     "text": [
      "1. 타미힐피거 반팔 티셔츠 남자 여자 면티 T3...\n",
      "2. 캘빈클라인언더웨어 남성 모던코튼 6팩 드로...\n",
      "3. 나이키 남성용 NSW 클럽 조거팬츠 BV2679\n",
      "4. 타미힐피거 남녀공용 카라티 반팔티 피케 폴...\n",
      "5. 스튜디오톰보이 테일러드 린넨자켓 9100212...\n",
      "6. 지오다노 여 프렌치 테리 조거핏 팬츠 4115...\n",
      "7. 나이키 SB 로고 드라이핏 반팔티 AR4209-01...\n",
      "8. 아디다스 코어18 레인 자켓 바람막이 윈드브...\n",
      "9. 써스데이아일랜드 프릴 반팔 소매 원피스 T...\n",
      "10. 지오다노 여 TR 블레이저 솔리드 371501\n",
      "11. 메종키츠네 여성 폭스 헤드 반팔 WH AW0010...\n",
      "12. 나이키 기능성 드라이핏 반팔티 레전드 718...\n",
      "13. 나이키 W 스우시 하이 라이즈 우븐 팬츠 CZ...\n",
      "14. 나이키 클럽 트레이닝 조거팬츠 BV2671 063\n",
      "15. 아디다스 오버핏 데일리 바람막이 우븐소재...\n",
      "16. 지오다노 여 나일론 조거팬츠 411522\n",
      "17. 메종키츠네 폭스헤드 패치 반팔티 AM00103K...\n",
      "18. 아디다스 바람막이 오운더런 자켓 M OWN TH...\n",
      "19. 캘빈클라인진 21S S 여성 슬림핏 기본로고 ...\n",
      "20. 써스데이아일랜드 빈티지 페이즐리 원피스 ...\n",
      "21. 아노락 바람막이 후드집업 반바지 트레이닝...\n",
      "22. 지오다노 지오다노 여 레인코트 371513\n",
      "23. 아디다스 M 삼선 윈드브레이커 GQ0600 GQ06...\n",
      "24. 트리플에이 무지티 반팔티 무지 반팔티셔츠...\n",
      "25. 캘빈클라인 남성 모노그램 엠브로 반팔티셔...\n",
      "26. SOUP 기본 린넨 자켓 SW5JK80\n",
      "27. 나이키 W 리펠 에센셜 GX 미드 라이즈 조거...\n",
      "28. 이경희 란제리 레이스 슬립 가운세트\n",
      "29. 나이키 스우시 반팔티 827021-100\n",
      "30. 리스트 아웃포켓 원버튼 여름 자켓 TWWJKK6...\n",
      "31. 아디다스 FW19 T19 트랙 트레이닝 팬츠 DW6...\n",
      "32. 나이키 NSW 클럽 크루 프렌치테리 맨투맨 남...\n",
      "33. 리스트 기본 자켓 자켓 TWWJKK62010\n",
      "34. 아디다스 3D 트레포일 트랙팬츠 GN3534\n",
      "35. 루앤 가슴압박 스포츠브라\n",
      "36. 라코스테 멘즈 크루넥 피마 저지 티셔츠 4색...\n",
      "37. 폴로랄프로렌 걸스 케이블 니트 가디건 헌터\n",
      "38. 써스데이아일랜드 볼륨소매 롱 원피스 T214...\n",
      "39. 나이키 드라이 핏 파크 트랙수트 스우시 트...\n",
      "40. 캘빈클라인진 캘 빈클라인진 여성 여성 스트...\n",
      "41. 아디다스 남성 아이스 쿨 썸머 패키지 드로...\n",
      "42. 나이키 남성 에센셜 후디 재킷 진주 CU5359...\n",
      "43. 메종키츠네 그레이 폭스 패치 반팔 티셔츠 ...\n",
      "44. 나이키 시티 에디션 우븐 트레이닝 긴바지 ...\n",
      "45. 나이키 NSW 클럽 플리스 후드 집업 FZBB BV...\n",
      "46. 지오다노 아노락 자켓 05 05371506\n",
      "47. 나이키 스포츠브라 CN3719-010\n",
      "48. 나이키 스우시 스포츠브라 BV3637-010\n",
      "49. 달콤한레드 스윗드림 신혼부부 파자마 수면...\n",
      "50. 지오다노 남 테이퍼드 슬랙스 110511\n",
      "51. 나이키 더블 스우시 아노락 우븐 윈드러너 ...\n",
      "52. 뉴발란스 W롱아노락 라이트핑크 85 - 남여공...\n",
      "53. 지오다노 여성 린넨 블레이저 371514\n",
      "54. 지오다노 포플린 셔츠 340501\n",
      "55. 블루선 곰돌이 캐릭터 순면 커플 잠옷 파자...\n",
      "56. 쉬즈미스 와이드 핏 트임 팬츠 SWWSLK21010\n",
      "57. 랩 자가드 패턴 카라 니트 AM2KH460\n",
      "58. 나이키 프렌치테리 후드 집업 BV2648-010 B...\n",
      "59. 나이키 SB 로고 반팔티 821946\n",
      "60. 라코스테 벨티드 피케 원피스 EF5471\n",
      "61. 리스트 여름 오픈 더블버튼 린넨 투피스 자...\n",
      "62. 폴로랄프로렌 반팔 카라티셔츠 커스텀핏 커...\n",
      "63. 스톤아일랜드 나슬란 나일론 오버셔츠 투포...\n",
      "64. 나이키 스포츠웨어 윈드러너 후드 재킷 DA0...\n",
      "65. 플라스틱아일랜드 더블 기본 자켓 PL2EJ461\n",
      "66. 루앤 심리스 브라 노와이어 무봉제 수면 브...\n",
      "67. 케네스레이디 투버튼 포인트 린넨 마 자켓 ...\n",
      "68. 나이키 스포츠웨어 HBR 빅스우시 재킷 AR31...\n",
      "69. 써스데이아일랜드 20 S/S 반다나 패턴 롱 원...\n",
      "70. 타미힐피거 반팔카라티 TOMMY MENS POLLO B...\n",
      "71. 나이키 액티브 윈드러너 바람막이 자켓 AJ2...\n",
      "72. 지오다노 헤비코튼 크루넥 반팔 티셔츠 021...\n",
      "73. 써스데이아일랜드 레이스 MIX 자켓형 블라우...\n",
      "74. 나이키 우먼스 에센셜 7/8 팬츠 BV2899-011\n",
      "75. 칼하트 K87 남성 포켓 티셔츠 17종 택1\n",
      "76. 써스데이아일랜드 정상 벌룬 소매 자수 원피...\n",
      "77. 아디다스 3S 우븐 7 8 팬츠 3S WVN 78 PANT...\n",
      "78. 폴로랄프로렌 여성사이즈 옥스포드 코튼 긴...\n",
      "79. 신상특가 모그핑크 클라우디 심리스 사각팬...\n",
      "80. 스톤아일랜드 와펜 패치 반팔 티셔츠 V0020...\n",
      "81. 지오다노 남 MW 테이퍼드 링클프리  110901\n",
      "82. 라코스테 반팔카라티 클래식 셔츠 L1212-00...\n",
      "83. 이경희 수면 파자마 홈웨어 라운지\n",
      "84. 라코스테 2 여성 A라인 플레어 원피스 EF54...\n",
      "85. 리스트 플라워 러플 타이넥 블라우스 BLK50...\n",
      "86. 지오다노 남여공용 봄 심플 무지 오버핏 솔...\n",
      "87. 나이키 NSW 조거 프렌치테리 클럽 팬츠 BV2...\n",
      "88. 아디다스 여성용 티 드레스 GN2777\n",
      "89. 아디다스 여성용 오운 더 런 후드자켓 바람...\n",
      "90. 스톤아일랜드 로고 와펜 후드집업 73166074...\n",
      "91. 캘빈클라인 속옷 남자 팬티 남성 모달 드로...\n",
      "92. 내셔널지오그래픽 더마인드 남성 아노락 바...\n",
      "93. 지오다노 반팔 폴로 피케 010501\n",
      "94. 폴로랄프로렌 여성 피마코튼 케이블 라운드...\n",
      "95. 아디다스 파르마16 쇼트 속팬츠 반바지 AJ5...\n",
      "96. 쉬즈미스 테일러드 원버튼 싱글 자켓 CR SW...\n",
      "97. 라코스테 파리 남성 긴팔 PK 카라 티셔츠\n",
      "98. 메종키츠네 폭스헤드 티셔츠 AM00103KJ0008\n",
      "99. 지오다노 예약선오픈 피케 반팔티 21SS신상...\n",
      "100. 지오다노 조거핏 라운지 팬츠 05 05551501\n"
     ]
    }
   ],
   "source": [
    "import requests\n",
    "from bs4 import BeautifulSoup\n",
    "site_list = ['https://search.shopping.naver.com/best100v2/detail.nhn?catId=50000000','https://search.shopping.naver.com/best100v2/detail.nhn?catId=50000001','https://search.shopping.naver.com/best100v2/detail.nhn?catId=50000002','https://search.shopping.naver.com/best100v2/detail.nhn?catId=50000003']\n",
    "for site in site_list:\n",
    "    res = requests.get(site)\n",
    "    soup = BeautifulSoup(res.content, 'html.parser')\n",
    "    items = soup.select('#productListArea > ul > li > p > a')\n",
    "    for index, item in enumerate(items):\n",
    "        print(str(index+1)+'.',item.get_text())"
   ]
  },
  {
   "cell_type": "code",
   "execution_count": 48,
   "id": "3cc56f01",
   "metadata": {},
   "outputs": [
    {
     "name": "stdout",
     "output_type": "stream",
     "text": [
      "삼성중공업\n",
      "HMM\n",
      "삼성전자\n",
      "박셀바이오\n",
      "셀트리온\n",
      "SK이노베이션\n",
      "카카오\n",
      "금호석유\n",
      "SK하이닉스\n",
      "텔레칩스\n"
     ]
    }
   ],
   "source": [
    "import requests\n",
    "from bs4 import BeautifulSoup\n",
    "\n",
    "res = requests.get('https://finance.naver.com/sise/')\n",
    "soup = BeautifulSoup(res.content, 'html.parser')\n",
    "items = soup.select('#popularItemList > li > a')   \n",
    "for item in items:\n",
    "    print(item.get_text())"
   ]
  },
  {
   "cell_type": "code",
   "execution_count": 51,
   "id": "ad6c0c7c",
   "metadata": {},
   "outputs": [
    {
     "name": "stdout",
     "output_type": "stream",
     "text": [
      "지수이름: 다우산업 현재지수: 34,230.34 상승\n",
      "지수이름:  나스닥 현재지수: 13,582.43 하락\n",
      "지수이름:  홍콩H 현재지수: 10,721.87 하락\n",
      "지수이름:  상해종합 현재지수: 3,446.86 하락\n",
      "지수이름:  니케이225 현재지수: 29,332.67 상승\n"
     ]
    }
   ],
   "source": [
    "import requests\n",
    "from bs4 import BeautifulSoup\n",
    "\n",
    "res = requests.get('https://finance.naver.com/sise/')\n",
    "soup = BeautifulSoup(res.content, 'html.parser')\n",
    "items = soup.select('div.rgt > ul.lst_major > li')   \n",
    "for item in items:\n",
    "    print(\"지수이름:\", item.find('a').get_text(), \"현재지수:\", item.find('span').get_text(), item.find('em').get_text())"
   ]
  },
  {
   "cell_type": "markdown",
   "id": "f022c426",
   "metadata": {},
   "source": [
    "### Urillb 라이브러리 사용법"
   ]
  },
  {
   "cell_type": "code",
   "execution_count": 53,
   "id": "670eb2e3",
   "metadata": {},
   "outputs": [
    {
     "name": "stdout",
     "output_type": "stream",
     "text": [
      "상품명: 보몽드 순면스퀘어 솔리드 누빔매트커버, 다크블루\n",
      "상품명: 슈에뜨룸 선인장 리플 침구 세트, 베이지\n",
      "상품명: 선우랜드 레인보우 2단 문걸이용 옷걸이 _중형, 화이트, 상세페이지참조\n",
      "상품명: 보드래 헬로우 누빔 매트리스커버, 핑크\n",
      "상품명: 보드래 퍼펙트 누빔 매트리스커버, 차콜\n",
      "상품명: 피아블 클래식 방수 매트리스커버, 화이트\n",
      "상품명: 더자리 에코항균 마이크로 매트리스커버, 밀키차콜그레이\n",
      "상품명: 더자리 프레쉬 퓨어 매트리스 커버, 퓨어 차콜그레이\n",
      "상품명: 몽쉐어 알러스킨 항균 매트리스 커버, 카키그레이\n",
      "상품명: 쿠팡 브랜드 - 코멧 홈 40수 트윌 순면 100% 홑겹 매트리스커버, 그레이\n",
      "상품명: 패브릭아트 항균 마이크로 원단 매트리스 커버, 아이보리\n",
      "상품명: 바숨 순면 누빔 침대 매트리스커버, 차콜\n",
      "상품명: WEMAX 다용도 문옷걸이, 화이트, 1개\n",
      "상품명: 타카타카 프리미엄 나노 화이바 누빔 매트리스 커버, 젠틀핑핑\n",
      "상품명: 보몽드 순면스퀘어 누빔매트커버, 다크그레이\n",
      "상품명: 보드래 국내산 순면 60수 누빔 매트리스커버, 그레이\n"
     ]
    }
   ],
   "source": [
    "from urllib.request import urlopen\n",
    "from bs4 import BeautifulSoup\n",
    "\n",
    "res =  urlopen('https://davelee-fun.github.io/')\n",
    "soup = BeautifulSoup(res, 'html.parser')\n",
    "\n",
    "data = soup.select('h4.card-text')\n",
    "for item in data:\n",
    "    print(item.get_text().strip())"
   ]
  },
  {
   "cell_type": "markdown",
   "id": "c6d5341f",
   "metadata": {},
   "source": [
    "### HTTP response code (크롤링할 페이지가 없는 경우 확인 방법)"
   ]
  },
  {
   "cell_type": "code",
   "execution_count": 55,
   "id": "9b3fdfac",
   "metadata": {},
   "outputs": [
    {
     "name": "stdout",
     "output_type": "stream",
     "text": [
      "페이지 없음\n"
     ]
    }
   ],
   "source": [
    "import requests\n",
    "from bs4 import BeautifulSoup\n",
    "\n",
    "res = requests.get('https://davelee-fun.github.io/xxx')\n",
    "if res.status_code != 200:\n",
    "    print('페이지 없음')\n",
    "else:\n",
    "    soup = BeautifulSoup(res.content, 'html.parser')\n",
    "    \n",
    "    data = soup.select('h4.card-text')\n",
    "    for item in data:\n",
    "        print(item.get_text())\n"
   ]
  },
  {
   "cell_type": "markdown",
   "id": "a1e81e70",
   "metadata": {},
   "source": [
    "### 여러페이지 한번에 크롤링하는 기법"
   ]
  },
  {
   "cell_type": "code",
   "execution_count": 58,
   "id": "db48fc95",
   "metadata": {},
   "outputs": [
    {
     "name": "stdout",
     "output_type": "stream",
     "text": [
      "상품명: 보몽드 순면스퀘어 솔리드 누빔매트커버, 다크블루\n",
      "상품명: 슈에뜨룸 선인장 리플 침구 세트, 베이지\n",
      "상품명: 선우랜드 레인보우 2단 문걸이용 옷걸이 _중형, 화이트, 상세페이지참조\n",
      "상품명: 보드래 헬로우 누빔 매트리스커버, 핑크\n",
      "상품명: 보드래 퍼펙트 누빔 매트리스커버, 차콜\n",
      "상품명: 피아블 클래식 방수 매트리스커버, 화이트\n",
      "상품명: 더자리 에코항균 마이크로 매트리스커버, 밀키차콜그레이\n",
      "상품명: 더자리 프레쉬 퓨어 매트리스 커버, 퓨어 차콜그레이\n",
      "상품명: 몽쉐어 알러스킨 항균 매트리스 커버, 카키그레이\n",
      "상품명: 쿠팡 브랜드 - 코멧 홈 40수 트윌 순면 100% 홑겹 매트리스커버, 그레이\n",
      "상품명: 패브릭아트 항균 마이크로 원단 매트리스 커버, 아이보리\n",
      "상품명: 바숨 순면 누빔 침대 매트리스커버, 차콜\n",
      "상품명: WEMAX 다용도 문옷걸이, 화이트, 1개\n",
      "상품명: 타카타카 프리미엄 나노 화이바 누빔 매트리스 커버, 젠틀핑핑\n",
      "상품명: 보몽드 순면스퀘어 누빔매트커버, 다크그레이\n",
      "상품명: 보드래 국내산 순면 60수 누빔 매트리스커버, 그레이\n",
      "상품명: 보드래 퍼펙트 누빔 매트리스커버, 베이지핑크\n",
      "상품명: 쿠팡 브랜드 - 코멧 홈 40수 순면 누빔 매트리스커버, 챠콜\n",
      "상품명: 바숨 순면 누빔 침대 매트리스커버, 화이트\n",
      "상품명: 프랑떼 항균 방수 매트리스커버, 화이트\n",
      "상품명: 보몽드 순면스퀘어 솔리드 누빔매트커버, 다크블루\n",
      "상품명: 네이쳐리빙 피아블 클래식 방수 매트리스커버, 그레이\n",
      "상품명: 쿠팡 브랜드 - 코멧 홈 순면 매트리스커버, 베이지\n",
      "상품명: 타카타카 프리미엄 나노 화이바 누빔 매트리스 커버, 프렌치불독\n",
      "상품명: 더자리 에코항균 마이크로 매트리스커버, 밀키그레이\n",
      "상품명: 보몽드 순면스퀘어 누빔매트커버, 화이트\n",
      "상품명: 피아블 클래식 방수 매트리스커버, 화이트\n",
      "상품명: 쿠팡 브랜드 - 코멧 홈 순면 매트리스커버, 차콜그레이\n",
      "상품명: 쉬즈홈 모던그리드 순면 여름이불 베개커버 패드세트, 핑크\n",
      "상품명: 스코홈 빅리플 여름 차렵이불패드 3종 세트, 마린그레이\n",
      "상품명: 아망떼 시어서커 리플 홑이불 패드세트, 웨이크\n",
      "상품명: 마이센스 무더운 여름엔 시어서커 여름이불 패드 베개 이불세트 30종, 시어서커_파스텔그레이\n",
      "상품명: 믹스앤매치 로라 프릴 시어서커 침구세트, 그레이\n",
      "상품명: 에피소드1 샤베트 프릴 시어서커 여름이불패드세트, 그레이\n",
      "상품명: 슈에뜨룸 선인장 리플 침구 세트, 베이지\n",
      "상품명: 아망떼 시어서커 리플 홑이불 패드세트, 허브티\n",
      "상품명: 지베딩 아이스베어 시어서커 여름침구 풀세트, 민트그레이\n",
      "상품명: 쁘리엘르 테스 시어서커 여름이불 패드세트, 그레이\n",
      "상품명: 쉬즈홈 시어서커 홑이불 + 토퍼 + 베개커버 세트, 나나 옐로우\n",
      "상품명: 아망떼 시어서커 리플 퀼팅 이불패드세트, 리엔나\n",
      "상품명: 바자르 트로피컬 인견 여름 이불세트 인견이불 + 베개커버 2p + 인견패드, 그린\n",
      "상품명: 바자르 라이닝 혼방 인견 여름 이불베개세트 + 패드 Q, 쿨 네이비\n",
      "상품명: 슈에뜨룸 비숑 피치스킨 침구세트, 그레이\n",
      "상품명: 스코홈 시어서커 여름 이불 패드 3종 세트, 차콜\n",
      "상품명: 스코홈 어번시리즈 순면 차렵이불 누빔 매트커버세트 S 차콜\n",
      "상품명: 쉬즈홈 루즈 시어서커 차렵이불 패드세트, 그레이\n",
      "상품명: 예가로드 메리엘 시어서커 누비이불 패드세트, 블루\n",
      "상품명: 에피소드1 샤베트 프릴 시어서커 여름이불패드세트, 화이트\n",
      "상품명: 쉬즈홈 플루 시어서커 차렵이불 패드세트, 그린\n",
      "상품명: 메종 레이스 차렵 이불 세트, 블루\n",
      "상품명: 믹스앤매치 로라 프릴 시어서커 침구세트, 그린\n",
      "상품명: 슈에뜨룸 발그레 피치 리플 침구 세트, 혼합 색상\n",
      "상품명: 보몽드 메종 레이스 차렵이불 3종 세트, 민트\n",
      "상품명: 슈에뜨룸 체크 피치스킨 침구세트, 모카\n",
      "상품명: 메리엘 시어서커 에어리플 이불세트, 그레이\n",
      "상품명: 슈에뜨룸 빠삐용 시어서커 침구세트, 네이비\n",
      "상품명: 믹스앤매치 에이프릴 리플 누비이불 패드세트, 화이트\n",
      "상품명: 쉬즈홈 시어서커 홑이불 토퍼세트, 루즈 그레이\n",
      "상품명: 이코디 5단 엔틱 도어 행거, 브라운, 1개\n",
      "상품명: 선우랜드 우드볼 도어훅 4구, 실버, 1개\n",
      "상품명: 리은상점 다용도 도어훅 문걸이 행거 모자걸이 머플러 목도리 걸이, 화이트, 5개\n",
      "상품명: 퍼니스코 다용도걸이 모자걸이 가방걸이 도어훅 도어행거 문걸이, 엔틱브라운, 1세트\n",
      "상품명: 스텐 도어후크 옷걸이/도어훅 문옷걸이 행거 바지걸이, 혼합 색상, 1개\n",
      "상품명: 디비플러스 키펙스 컬러 폭조절 오버 도어훅, 블랙, 1개\n",
      "상품명: 리빙스토리 1+1 문에 거는 문 옷걸이 음자리 도어후크 방문 행거, 음자리도어후크-로즈골드, 2개\n",
      "상품명: 나이스후크 도어행거 2개 세트 (문행거), 블랙+화이트\n",
      "상품명: 리빙파이 도어훅 옷걸이 행거 7구, 블랙, 1개\n",
      "상품명: 선우랜드 우드볼 도어훅 10구, 실버, 1개\n",
      "상품명: 웰렉스 도어행거 MH1060 신형 본사직발송 미니건조대 도어옷걸이 도어훅, 고동색, 1개\n",
      "상품명: 엔비 엔틱 7구 도어훅 옷걸이, 도어훅 1+1, 1+1\n",
      "상품명: 코시나 무타공 문걸이 후크선반 1단, 화이트, 1개\n",
      "상품명: 코시나 무타공 올스텐 문걸이행거, 혼합 색상, 1개\n",
      "상품명: [아트박스 POOM/이케아] ENUDDEN 도어 행거, 본품, 수량\n",
      "상품명: 비스비바 우드 폴 다용도걸이 3구, 혼합 색상, 1개\n",
      "상품명: 숲속애 웨이브 도어후크 5구, 블랙, 1개\n",
      "상품명: 펀타스틱 다용도 문틀걸이, 화이트, 1개\n",
      "상품명: 선우랜드 우드볼 도어훅 4구, 화이트, 1개\n",
      "상품명: 네이쳐리빙 어반모카 와이어 도어훅 옷걸이 6구, 단일 색상, 1개\n",
      "상품명: 까사마루 블랑 접이식 문걸이 건조대, 1개\n",
      "상품명: 선우랜드 우드볼 도어훅 6구, 실버, 1개\n",
      "상품명: 이케아 ENUDDEN 문걸이 행거 402.516.66, 화이트, 1개\n",
      "상품명: 선우랜드 우드볼 도어훅 10구, 화이트, 1개\n",
      "상품명: 코멧 홈 우드볼 도어행거, 6구, 혼합색상\n",
      "상품명: 선우랜드 레인보우 2단 문걸이용 옷걸이 _중형, 화이트, 상세페이지참조\n",
      "상품명: 코시나 무타공 문걸이 후크선반 2단, 화이트, 1개\n",
      "상품명: 스파이더락 도어후크 8구, 화이트, 1개\n",
      "상품명: 선우랜드 우드볼 도어훅 6구, 화이트, 1개\n",
      "상품명: 코멧 홈 우드볼 도어행거, 10구, 혼합색상\n",
      "상품명: 보드래 헬로우 누빔 매트리스커버, 핑크\n",
      "상품명: 보몽드 순면스퀘어 솔리드 누빔매트커버, 아이보리\n",
      "상품명: 더자리 에코항균 마이크로 매트리스커버, 밀키핑크\n",
      "상품명: 타카타카 프리미엄 나노 화이바 누빔 매트리스 커버, 미스밍고\n",
      "상품명: 네이쳐리빙 피아블 클래식 방수 매트리스커버, 그레이\n",
      "상품명: 프로텍트어베드 베이직 매트리스 방수커버, 그레이\n"
     ]
    }
   ],
   "source": [
    "import requests\n",
    "from bs4 import BeautifulSoup\n",
    "\n",
    "for page_num in range(10):\n",
    "    if page_num == 0:\n",
    "        res = requests.get('https://davelee-fun.github.io/')\n",
    "    else:\n",
    "        res = requests.get('https://davelee-fun.github.io/page' +str(page_num + 1))\n",
    "    soup = BeautifulSoup(res.content, 'html.parser')\n",
    "    \n",
    "    data = soup.select('h4.card-text')\n",
    "    for item in data:\n",
    "        print(item.get_text().strip())\n",
    "\n"
   ]
  },
  {
   "cell_type": "markdown",
   "id": "641c2c3a",
   "metadata": {},
   "source": [
    "### 크롤링해서 엑셀파일로 데이터 저장"
   ]
  },
  {
   "cell_type": "markdown",
   "id": "2651d3ed",
   "metadata": {},
   "source": [
    "#### 엑셀 파일 만들기 ( 함수로 작성해보면서, 함수 작성법과 활용법 이해하기)"
   ]
  },
  {
   "cell_type": "code",
   "execution_count": 70,
   "id": "2bea9f5b",
   "metadata": {},
   "outputs": [],
   "source": [
    "import openpyxl\n",
    "\n",
    "def write_excel_template(filename, sheetname, listdata):\n",
    "    excel_file =  openpyxl.Workbook()\n",
    "    excel_sheet = excel_file.active\n",
    "    excel_sheet.column_dimensions['A'].width = 100\n",
    "    excel_sheet.column_dimensions['B'].width = 20\n",
    "    \n",
    "    if sheetname != '':\n",
    "        excel_sheet.title = sheetname\n",
    "        \n",
    "    for item in listdata:\n",
    "        excel_sheet.append(item)\n",
    "    excel_file.save(filename)\n",
    "    excel_file.close()"
   ]
  },
  {
   "cell_type": "code",
   "execution_count": 71,
   "id": "f96fd95f",
   "metadata": {},
   "outputs": [],
   "source": [
    "import requests\n",
    "from bs4 import BeautifulSoup\n",
    "\n",
    "product_lists = list()\n",
    "for page_num in range(10):\n",
    "    if page_num == 0:\n",
    "        res = requests.get('https://davelee-fun.github.io/')\n",
    "    else:\n",
    "        res = requests.get('https://davelee-fun.github.io/page' + str(page_num + 1))\n",
    "    soup = BeautifulSoup(res.content, 'html.parser')\n",
    "    \n",
    "    data = soup.select('div.card')\n",
    "    for item in data:\n",
    "        product_name = item.select_one('div.card-body h4.card-text')\n",
    "        product_date = item.select_one('div.wrapfooter span.post-date')\n",
    "        product_info = [product_name.get_text().strip(), product_date.get_text()]\n",
    "        product_lists.append(product_info)"
   ]
  },
  {
   "cell_type": "code",
   "execution_count": 72,
   "id": "a8037b86",
   "metadata": {},
   "outputs": [],
   "source": [
    "write_excel_template('1.xlsx', '상품정보', product_lists)"
   ]
  },
  {
   "cell_type": "code",
   "execution_count": 76,
   "id": "1ae9af46",
   "metadata": {},
   "outputs": [
    {
     "name": "stdout",
     "output_type": "stream",
     "text": [
      "[['상품명: 보몽드 순면스퀘어 솔리드 누빔매트커버, 다크블루', '05 Jun 2020'], ['상품명: 슈에뜨룸 선인장 리플 침구 세트, 베이지', '05 Jun 2020'], ['상품명: 선우랜드 레인보우 2단 문걸이용 옷걸이 _중형, 화이트, 상세페이지참조', '05 Jun 2020'], ['상품명: 보드래 헬로우 누빔 매트리스커버, 핑크', '05 Jun 2020'], ['상품명: 보드래 퍼펙트 누빔 매트리스커버, 차콜', '05 Jun 2020'], ['상품명: 피아블 클래식 방수 매트리스커버, 화이트', '05 Jun 2020'], ['상품명: 더자리 에코항균 마이크로 매트리스커버, 밀키차콜그레이', '05 Jun 2020'], ['상품명: 더자리 프레쉬 퓨어 매트리스 커버, 퓨어 차콜그레이', '05 Jun 2020'], ['상품명: 몽쉐어 알러스킨 항균 매트리스 커버, 카키그레이', '05 Jun 2020'], ['상품명: 쿠팡 브랜드 - 코멧 홈 40수 트윌 순면 100% 홑겹 매트리스커버, 그레이', '05 Jun 2020'], ['상품명: 패브릭아트 항균 마이크로 원단 매트리스 커버, 아이보리', '05 Jun 2020'], ['상품명: 바숨 순면 누빔 침대 매트리스커버, 차콜', '05 Jun 2020'], ['상품명: WEMAX 다용도 문옷걸이, 화이트, 1개', '05 Jun 2020'], ['상품명: 타카타카 프리미엄 나노 화이바 누빔 매트리스 커버, 젠틀핑핑', '05 Jun 2020'], ['상품명: 보몽드 순면스퀘어 누빔매트커버, 다크그레이', '05 Jun 2020'], ['상품명: 보드래 국내산 순면 60수 누빔 매트리스커버, 그레이', '05 Jun 2020'], ['상품명: 보드래 퍼펙트 누빔 매트리스커버, 베이지핑크', '05 Jun 2020'], ['상품명: 쿠팡 브랜드 - 코멧 홈 40수 순면 누빔 매트리스커버, 챠콜', '05 Jun 2020'], ['상품명: 바숨 순면 누빔 침대 매트리스커버, 화이트', '05 Jun 2020'], ['상품명: 프랑떼 항균 방수 매트리스커버, 화이트', '05 Jun 2020'], ['상품명: 보몽드 순면스퀘어 솔리드 누빔매트커버, 다크블루', '05 Jun 2020'], ['상품명: 네이쳐리빙 피아블 클래식 방수 매트리스커버, 그레이', '05 Jun 2020'], ['상품명: 쿠팡 브랜드 - 코멧 홈 순면 매트리스커버, 베이지', '05 Jun 2020'], ['상품명: 타카타카 프리미엄 나노 화이바 누빔 매트리스 커버, 프렌치불독', '05 Jun 2020'], ['상품명: 더자리 에코항균 마이크로 매트리스커버, 밀키그레이', '05 Jun 2020'], ['상품명: 보몽드 순면스퀘어 누빔매트커버, 화이트', '05 Jun 2020'], ['상품명: 피아블 클래식 방수 매트리스커버, 화이트', '05 Jun 2020'], ['상품명: 쿠팡 브랜드 - 코멧 홈 순면 매트리스커버, 차콜그레이', '05 Jun 2020'], ['상품명: 쉬즈홈 모던그리드 순면 여름이불 베개커버 패드세트, 핑크', '05 Jun 2020'], ['상품명: 스코홈 빅리플 여름 차렵이불패드 3종 세트, 마린그레이', '05 Jun 2020'], ['상품명: 아망떼 시어서커 리플 홑이불 패드세트, 웨이크', '05 Jun 2020'], ['상품명: 마이센스 무더운 여름엔 시어서커 여름이불 패드 베개 이불세트 30종, 시어서커_파스텔그레이', '05 Jun 2020'], ['상품명: 믹스앤매치 로라 프릴 시어서커 침구세트, 그레이', '05 Jun 2020'], ['상품명: 에피소드1 샤베트 프릴 시어서커 여름이불패드세트, 그레이', '05 Jun 2020'], ['상품명: 슈에뜨룸 선인장 리플 침구 세트, 베이지', '05 Jun 2020'], ['상품명: 아망떼 시어서커 리플 홑이불 패드세트, 허브티', '05 Jun 2020'], ['상품명: 지베딩 아이스베어 시어서커 여름침구 풀세트, 민트그레이', '05 Jun 2020'], ['상품명: 쁘리엘르 테스 시어서커 여름이불 패드세트, 그레이', '05 Jun 2020'], ['상품명: 쉬즈홈 시어서커 홑이불 + 토퍼 + 베개커버 세트, 나나 옐로우', '05 Jun 2020'], ['상품명: 아망떼 시어서커 리플 퀼팅 이불패드세트, 리엔나', '05 Jun 2020'], ['상품명: 바자르 트로피컬 인견 여름 이불세트 인견이불 + 베개커버 2p + 인견패드, 그린', '05 Jun 2020'], ['상품명: 바자르 라이닝 혼방 인견 여름 이불베개세트 + 패드 Q, 쿨 네이비', '05 Jun 2020'], ['상품명: 슈에뜨룸 비숑 피치스킨 침구세트, 그레이', '05 Jun 2020'], ['상품명: 스코홈 시어서커 여름 이불 패드 3종 세트, 차콜', '05 Jun 2020'], ['상품명: 스코홈 어번시리즈 순면 차렵이불 누빔 매트커버세트 S 차콜', '05 Jun 2020'], ['상품명: 쉬즈홈 루즈 시어서커 차렵이불 패드세트, 그레이', '05 Jun 2020'], ['상품명: 예가로드 메리엘 시어서커 누비이불 패드세트, 블루', '05 Jun 2020'], ['상품명: 에피소드1 샤베트 프릴 시어서커 여름이불패드세트, 화이트', '05 Jun 2020'], ['상품명: 쉬즈홈 플루 시어서커 차렵이불 패드세트, 그린', '05 Jun 2020'], ['상품명: 메종 레이스 차렵 이불 세트, 블루', '05 Jun 2020'], ['상품명: 믹스앤매치 로라 프릴 시어서커 침구세트, 그린', '05 Jun 2020'], ['상품명: 슈에뜨룸 발그레 피치 리플 침구 세트, 혼합 색상', '05 Jun 2020'], ['상품명: 보몽드 메종 레이스 차렵이불 3종 세트, 민트', '05 Jun 2020'], ['상품명: 슈에뜨룸 체크 피치스킨 침구세트, 모카', '05 Jun 2020'], ['상품명: 메리엘 시어서커 에어리플 이불세트, 그레이', '05 Jun 2020'], ['상품명: 슈에뜨룸 빠삐용 시어서커 침구세트, 네이비', '05 Jun 2020'], ['상품명: 믹스앤매치 에이프릴 리플 누비이불 패드세트, 화이트', '05 Jun 2020'], ['상품명: 쉬즈홈 시어서커 홑이불 토퍼세트, 루즈 그레이', '05 Jun 2020'], ['상품명: 이코디 5단 엔틱 도어 행거, 브라운, 1개', '05 Jun 2020'], ['상품명: 선우랜드 우드볼 도어훅 4구, 실버, 1개', '05 Jun 2020'], ['상품명: 리은상점 다용도 도어훅 문걸이 행거 모자걸이 머플러 목도리 걸이, 화이트, 5개', '05 Jun 2020'], ['상품명: 퍼니스코 다용도걸이 모자걸이 가방걸이 도어훅 도어행거 문걸이, 엔틱브라운, 1세트', '05 Jun 2020'], ['상품명: 스텐 도어후크 옷걸이/도어훅 문옷걸이 행거 바지걸이, 혼합 색상, 1개', '05 Jun 2020'], ['상품명: 디비플러스 키펙스 컬러 폭조절 오버 도어훅, 블랙, 1개', '05 Jun 2020'], ['상품명: 리빙스토리 1+1 문에 거는 문 옷걸이 음자리 도어후크 방문 행거, 음자리도어후크-로즈골드, 2개', '05 Jun 2020'], ['상품명: 나이스후크 도어행거 2개 세트 (문행거), 블랙+화이트', '05 Jun 2020'], ['상품명: 리빙파이 도어훅 옷걸이 행거 7구, 블랙, 1개', '05 Jun 2020'], ['상품명: 선우랜드 우드볼 도어훅 10구, 실버, 1개', '05 Jun 2020'], ['상품명: 웰렉스 도어행거 MH1060 신형 본사직발송 미니건조대 도어옷걸이 도어훅, 고동색, 1개', '05 Jun 2020'], ['상품명: 엔비 엔틱 7구 도어훅 옷걸이, 도어훅 1+1, 1+1', '05 Jun 2020'], ['상품명: 코시나 무타공 문걸이 후크선반 1단, 화이트, 1개', '05 Jun 2020'], ['상품명: 코시나 무타공 올스텐 문걸이행거, 혼합 색상, 1개', '05 Jun 2020'], ['상품명: [아트박스 POOM/이케아] ENUDDEN 도어 행거, 본품, 수량', '05 Jun 2020'], ['상품명: 비스비바 우드 폴 다용도걸이 3구, 혼합 색상, 1개', '05 Jun 2020'], ['상품명: 숲속애 웨이브 도어후크 5구, 블랙, 1개', '05 Jun 2020'], ['상품명: 펀타스틱 다용도 문틀걸이, 화이트, 1개', '05 Jun 2020'], ['상품명: 선우랜드 우드볼 도어훅 4구, 화이트, 1개', '05 Jun 2020'], ['상품명: 네이쳐리빙 어반모카 와이어 도어훅 옷걸이 6구, 단일 색상, 1개', '05 Jun 2020'], ['상품명: 까사마루 블랑 접이식 문걸이 건조대, 1개', '05 Jun 2020'], ['상품명: 선우랜드 우드볼 도어훅 6구, 실버, 1개', '05 Jun 2020'], ['상품명: 이케아 ENUDDEN 문걸이 행거 402.516.66, 화이트, 1개', '05 Jun 2020'], ['상품명: 선우랜드 우드볼 도어훅 10구, 화이트, 1개', '05 Jun 2020'], ['상품명: 코멧 홈 우드볼 도어행거, 6구, 혼합색상', '05 Jun 2020'], ['상품명: 선우랜드 레인보우 2단 문걸이용 옷걸이 _중형, 화이트, 상세페이지참조', '05 Jun 2020'], ['상품명: 코시나 무타공 문걸이 후크선반 2단, 화이트, 1개', '05 Jun 2020'], ['상품명: 스파이더락 도어후크 8구, 화이트, 1개', '05 Jun 2020'], ['상품명: 선우랜드 우드볼 도어훅 6구, 화이트, 1개', '05 Jun 2020'], ['상품명: 코멧 홈 우드볼 도어행거, 10구, 혼합색상', '05 Jun 2020'], ['상품명: 보드래 헬로우 누빔 매트리스커버, 핑크', '05 Jun 2020'], ['상품명: 보몽드 순면스퀘어 솔리드 누빔매트커버, 아이보리', '05 Jun 2020'], ['상품명: 더자리 에코항균 마이크로 매트리스커버, 밀키핑크', '05 Jun 2020'], ['상품명: 타카타카 프리미엄 나노 화이바 누빔 매트리스 커버, 미스밍고', '05 Jun 2020'], ['상품명: 네이쳐리빙 피아블 클래식 방수 매트리스커버, 그레이', '05 Jun 2020'], ['상품명: 프로텍트어베드 베이직 매트리스 방수커버, 그레이', '05 Jun 2020']]\n"
     ]
    }
   ],
   "source": [
    "print(product_lists)"
   ]
  },
  {
   "cell_type": "code",
   "execution_count": null,
   "id": "251fa0d6",
   "metadata": {},
   "outputs": [],
   "source": []
  }
 ],
 "metadata": {
  "kernelspec": {
   "display_name": "Python 3",
   "language": "python",
   "name": "python3"
  },
  "language_info": {
   "codemirror_mode": {
    "name": "ipython",
    "version": 3
   },
   "file_extension": ".py",
   "mimetype": "text/x-python",
   "name": "python",
   "nbconvert_exporter": "python",
   "pygments_lexer": "ipython3",
   "version": "3.8.9"
  }
 },
 "nbformat": 4,
 "nbformat_minor": 5
}
